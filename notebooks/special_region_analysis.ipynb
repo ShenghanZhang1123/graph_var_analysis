{
 "cells": [
  {
   "cell_type": "code",
   "execution_count": 1,
   "metadata": {},
   "outputs": [],
   "source": [
    "import os\n",
    "os.chdir('/n/data1/hms/dbmi/oconnor/lab/shz311/pangenome/graph_var')\n",
    "\n",
    "from graph_var.graph_var.utils import read_gfa, group_walks_by_name, _node_recover\n",
    "from graph_var.graph_var.evaluating_functions import *\n",
    "import pandas as pd\n",
    "\n",
    "from collections import defaultdict"
   ]
  },
  {
   "cell_type": "code",
   "execution_count": 2,
   "metadata": {},
   "outputs": [],
   "source": [
    "version = 'v1'\n",
    "\n",
    "graph_obj_dir = f\"/n/data1/hms/dbmi/oconnor/lab/shz311/pangenome/Graph_objs_{version}\"\n",
    "raw_vcf_dir = f\"/n/data1/hms/dbmi/oconnor/lab/shz311/pangenome/VCFs_chr\"\n",
    "graph_vcf_dir = f\"/n/data1/hms/dbmi/oconnor/lab/shz311/pangenome/VCFs_{version}\"\n",
    "\n",
    "ref_tree_dir = f\"/n/data1/hms/dbmi/oconnor/lab/shz311/pangenome/Data/reference_tree_gfa_{version}\"\n",
    "gfa_dir = f\"/n/data1/hms/dbmi/oconnor/lab/shz311/pangenome/Data/chromosome_gfa_{version}\"\n",
    "snarl_dir = f\"/n/data1/hms/dbmi/oconnor/lab/shz311/pangenome/Data/chr_snarls_{version}\"\n",
    "bubble_summary_dir = f\"/n/data1/hms/dbmi/oconnor/lab/shz311/pangenome/Bubble_summary_{version}\"\n",
    "\n",
    "var_summary_dir = f\"/n/data1/hms/dbmi/oconnor/lab/shz311/pangenome/Stats_chr_{version}\"\n",
    "data_vis_dir = f\"/n/data1/hms/dbmi/oconnor/lab/shz311/pangenome/Data_visualization_{version}\"\n",
    "\n",
    "region_dir = f\"/n/data1/hms/dbmi/oconnor/lab/shz311/pangenome/Region_files\"\n",
    "\n",
    "mode = 'AT'\n",
    "wavevcf = True"
   ]
  },
  {
   "cell_type": "code",
   "execution_count": 3,
   "metadata": {},
   "outputs": [],
   "source": [
    "# Chr1\n",
    "RHD = (25267407, 25362681)\n",
    "RHD_endpoints = {\"3954144\", \"6251768\"}\n",
    "\n",
    "# Chr6\n",
    "HLA = (29881897, 29989065)\n",
    "HLA_endpoints = {\"61624562\", \"61637374\"}\n",
    "C4 = (31984192, 32023863)\n",
    "C4_endpoints = {\"61728291\", \"61729833\"}\n",
    "\n",
    "# Chr22\n",
    "CYP2D6 = (42117169, 42136257)\n",
    "CYP2D6_endpoints = {\"44985912\", \"44987821\"}"
   ]
  },
  {
   "cell_type": "code",
   "execution_count": 4,
   "metadata": {},
   "outputs": [],
   "source": [
    "chr1_gfa_path = f\"{gfa_dir}/chr1.gfa\"\n",
    "chr6_gfa_path = f\"{gfa_dir}/chr6.gfa\"\n",
    "chr22_gfa_path = f\"{gfa_dir}/chr22.gfa\"\n",
    "\n",
    "chr1_superbubble_path = f\"{bubble_summary_dir}/superbubble_type_chr1.tsv\"\n",
    "chr6_superbubble_path = f\"{bubble_summary_dir}/superbubble_type_chr6.tsv\"\n",
    "chr22_superbubble_path = f\"{bubble_summary_dir}/superbubble_type_chr22.tsv\""
   ]
  },
  {
   "cell_type": "code",
   "execution_count": 18,
   "metadata": {},
   "outputs": [],
   "source": [
    "chr1_gfa = read_gfa(chr1_gfa_path)\n",
    "chr6_gfa = read_gfa(chr6_gfa_path)\n",
    "chr22_gfa = read_gfa(chr22_gfa_path)"
   ]
  },
  {
   "cell_type": "markdown",
   "metadata": {},
   "source": [
    "Analysis: Haplotype frequency in C4 region based on simplified graph"
   ]
  },
  {
   "cell_type": "code",
   "execution_count": 5,
   "metadata": {},
   "outputs": [],
   "source": [
    "C4_simplified_gfa = f\"/n/data1/hms/dbmi/oconnor/lab/shz311/pangenome/Special_region/region_gfa/C4_simplified_gt_100.gfa\""
   ]
  },
  {
   "cell_type": "code",
   "execution_count": 6,
   "metadata": {},
   "outputs": [],
   "source": [
    "def haplotype_sequence_frequency_in_region(gfa_path, region_simplified_gfa):\n",
    "    gfa_data = read_gfa(gfa_path)\n",
    "    walk_sample_dict = group_walks_by_name(gfa_data['walks'], gfa_data['walk_sample_names'])\n",
    "\n",
    "    region_data = read_gfa(region_simplified_gfa)\n",
    "    region_node_set = set(region_data['nodes'])\n",
    "\n",
    "    haplotype_seq_freq = dict()\n",
    "    for haplotype, walks in tqdm(walk_sample_dict.items()):\n",
    "        walk_seq_dict = dict()\n",
    "        for walk in walks:\n",
    "            region_seq = []\n",
    "            for node in walk:\n",
    "                if node[:-2] in region_node_set:\n",
    "                    region_seq.append(_node_recover(node))\n",
    "            if len(region_seq) != 0:\n",
    "                region_path = ''.join(region_seq)\n",
    "                walk_seq_dict[region_path] = walk_seq_dict.get(region_path, 0) + 1\n",
    "        haplotype_seq_freq[haplotype] = walk_seq_dict\n",
    "    return haplotype_seq_freq\n",
    "\n",
    "def construct_seq_freq(haplotype_seq_freq):\n",
    "    seq_freq = dict()\n",
    "    for _, walk_seq_freq in haplotype_seq_freq.items():\n",
    "        for seq, count in walk_seq_freq.items():\n",
    "            seq_freq[seq] = seq_freq.get(seq, 0) + count\n",
    "    return seq_freq"
   ]
  },
  {
   "cell_type": "code",
   "execution_count": 7,
   "metadata": {},
   "outputs": [
    {
     "name": "stderr",
     "output_type": "stream",
     "text": [
      "100%|██████████| 90/90 [00:50<00:00,  1.78it/s]\n"
     ]
    }
   ],
   "source": [
    "C4_hap_seq = haplotype_sequence_frequency_in_region(chr6_gfa_path, C4_simplified_gfa)"
   ]
  },
  {
   "cell_type": "code",
   "execution_count": 9,
   "metadata": {},
   "outputs": [],
   "source": [
    "C4_seq = construct_seq_freq(C4_hap_seq)"
   ]
  },
  {
   "cell_type": "code",
   "execution_count": 10,
   "metadata": {},
   "outputs": [],
   "source": [
    "C4_unique_seq_haplotype_freq = pd.DataFrame({\n",
    "    \"Number of haplotypes\": list(C4_seq.values()),\n",
    "    \"Region path\": list(C4_seq.keys())\n",
    "})\n",
    "C4_unique_seq_haplotype_freq.sort_values(by='Number of haplotypes', inplace=True, ascending=False)"
   ]
  },
  {
   "cell_type": "code",
   "execution_count": 11,
   "metadata": {},
   "outputs": [
    {
     "data": {
      "text/html": [
       "<div>\n",
       "<style scoped>\n",
       "    .dataframe tbody tr th:only-of-type {\n",
       "        vertical-align: middle;\n",
       "    }\n",
       "\n",
       "    .dataframe tbody tr th {\n",
       "        vertical-align: top;\n",
       "    }\n",
       "\n",
       "    .dataframe thead th {\n",
       "        text-align: right;\n",
       "    }\n",
       "</style>\n",
       "<table border=\"1\" class=\"dataframe\">\n",
       "  <thead>\n",
       "    <tr style=\"text-align: right;\">\n",
       "      <th></th>\n",
       "      <th>Number of haplotypes</th>\n",
       "      <th>Region path</th>\n",
       "    </tr>\n",
       "  </thead>\n",
       "  <tbody>\n",
       "    <tr>\n",
       "      <th>2</th>\n",
       "      <td>29</td>\n",
       "      <td>&lt;61729826&gt;61729825&lt;61729285&lt;61729279&lt;61729133&lt;...</td>\n",
       "    </tr>\n",
       "    <tr>\n",
       "      <th>3</th>\n",
       "      <td>20</td>\n",
       "      <td>&gt;61728291&gt;61728301&gt;61728302&gt;61728308&gt;61728309&gt;...</td>\n",
       "    </tr>\n",
       "    <tr>\n",
       "      <th>5</th>\n",
       "      <td>10</td>\n",
       "      <td>&lt;61729833&lt;61729826&lt;61729824&lt;61729823&lt;61729817&lt;...</td>\n",
       "    </tr>\n",
       "    <tr>\n",
       "      <th>1</th>\n",
       "      <td>8</td>\n",
       "      <td>&lt;61729833&lt;61729826&lt;61729824&lt;61729823&lt;61729817&lt;...</td>\n",
       "    </tr>\n",
       "    <tr>\n",
       "      <th>0</th>\n",
       "      <td>7</td>\n",
       "      <td>&gt;61728291&gt;61728301&gt;61728302&gt;61728308&gt;61728309&gt;...</td>\n",
       "    </tr>\n",
       "    <tr>\n",
       "      <th>9</th>\n",
       "      <td>5</td>\n",
       "      <td>&gt;61728291&gt;61728301&gt;61729279&gt;61729285&gt;61729286&gt;...</td>\n",
       "    </tr>\n",
       "    <tr>\n",
       "      <th>4</th>\n",
       "      <td>4</td>\n",
       "      <td>&lt;61729826&gt;61729825&lt;61729823&lt;61729817&gt;61729811&gt;...</td>\n",
       "    </tr>\n",
       "    <tr>\n",
       "      <th>7</th>\n",
       "      <td>2</td>\n",
       "      <td>&lt;61729826&gt;61729825&lt;61729285&lt;61729279&lt;61729133&lt;...</td>\n",
       "    </tr>\n",
       "    <tr>\n",
       "      <th>6</th>\n",
       "      <td>1</td>\n",
       "      <td>&gt;61728291&gt;61728301&gt;61728302&gt;61728308&gt;61728309&gt;...</td>\n",
       "    </tr>\n",
       "    <tr>\n",
       "      <th>8</th>\n",
       "      <td>1</td>\n",
       "      <td>&lt;61729833&lt;61729826&lt;61729824&lt;61729823&lt;61729817&gt;...</td>\n",
       "    </tr>\n",
       "    <tr>\n",
       "      <th>10</th>\n",
       "      <td>1</td>\n",
       "      <td>&gt;61728291&gt;61728301&gt;61729279&gt;61729285&gt;61729286&gt;...</td>\n",
       "    </tr>\n",
       "    <tr>\n",
       "      <th>11</th>\n",
       "      <td>1</td>\n",
       "      <td>&gt;61728291&gt;61728301&gt;61728302&gt;61728308&gt;61728309&gt;...</td>\n",
       "    </tr>\n",
       "    <tr>\n",
       "      <th>12</th>\n",
       "      <td>1</td>\n",
       "      <td>&gt;61728291&gt;61728301&gt;61728302&gt;61728308&gt;61728309&gt;...</td>\n",
       "    </tr>\n",
       "  </tbody>\n",
       "</table>\n",
       "</div>"
      ],
      "text/plain": [
       "    Number of haplotypes                                        Region path\n",
       "2                     29  <61729826>61729825<61729285<61729279<61729133<...\n",
       "3                     20  >61728291>61728301>61728302>61728308>61728309>...\n",
       "5                     10  <61729833<61729826<61729824<61729823<61729817<...\n",
       "1                      8  <61729833<61729826<61729824<61729823<61729817<...\n",
       "0                      7  >61728291>61728301>61728302>61728308>61728309>...\n",
       "9                      5  >61728291>61728301>61729279>61729285>61729286>...\n",
       "4                      4  <61729826>61729825<61729823<61729817>61729811>...\n",
       "7                      2  <61729826>61729825<61729285<61729279<61729133<...\n",
       "6                      1  >61728291>61728301>61728302>61728308>61728309>...\n",
       "8                      1  <61729833<61729826<61729824<61729823<61729817>...\n",
       "10                     1  >61728291>61728301>61729279>61729285>61729286>...\n",
       "11                     1  >61728291>61728301>61728302>61728308>61728309>...\n",
       "12                     1  >61728291>61728301>61728302>61728308>61728309>..."
      ]
     },
     "execution_count": 11,
     "metadata": {},
     "output_type": "execute_result"
    }
   ],
   "source": [
    "C4_unique_seq_haplotype_freq"
   ]
  },
  {
   "cell_type": "code",
   "execution_count": 51,
   "metadata": {},
   "outputs": [],
   "source": [
    "C4_unique_seq_haplotype_freq.to_csv(f\"/n/data1/hms/dbmi/oconnor/lab/shz311/pangenome/Special_region/haplotype_freq/C4_simplified_gt_100.csv\", index=False)"
   ]
  },
  {
   "cell_type": "markdown",
   "metadata": {},
   "source": [
    "Analysis 1: Superbubble visited by haplotype"
   ]
  },
  {
   "cell_type": "code",
   "execution_count": 49,
   "metadata": {},
   "outputs": [],
   "source": [
    "def get_superbubble_visit_dict_for_haplotype_in_region(gfa_path, superbubble_path, region_range):\n",
    "    gfa_data = read_gfa(gfa_path)\n",
    "    superbubble_df = pd.read_csv(superbubble_path, sep='\\t')\n",
    "\n",
    "    walk_sample_dict = group_walks_by_name(gfa_data['walks'], gfa_data['walk_sample_names'])\n",
    "\n",
    "    superbubble_in_region_df = superbubble_df[\n",
    "        superbubble_df['POS'].apply(lambda x: region_range[0] <= int(x) < region_range[1])]\n",
    "\n",
    "    haplotype_bubble_visit_dict = dict()\n",
    "    for haplotype, walks in tqdm(walk_sample_dict.items()):\n",
    "        bubble_walk_dict = defaultdict(list)\n",
    "        for walk in walks:\n",
    "            walk_set = {int(node[:-2]) for node in walk}\n",
    "            for i in range(len(superbubble_in_region_df)):\n",
    "                bubble_id = eval(superbubble_in_region_df['Bubble'].iloc[i])\n",
    "                left_end, right_end = bubble_id\n",
    "                if int(left_end) in walk_set or int(right_end) in walk_set:\n",
    "                    bubble_walk_dict[bubble_id].append(1)\n",
    "                else:\n",
    "                    bubble_walk_dict[bubble_id].append(0)\n",
    "\n",
    "        haplotype_bubble_visit_dict[haplotype] = bubble_walk_dict\n",
    "    return haplotype_bubble_visit_dict\n",
    "\n",
    "def construct_bubble_haplotype_freq(haplotype_bubble_visit_dict):\n",
    "    bubble_haplotype_freq = dict()\n",
    "    for _, bubble_visit_dict in haplotype_bubble_visit_dict.items():\n",
    "        for bubble, visits in bubble_visit_dict.items():\n",
    "            bubble_haplotype_freq[bubble] = bubble_haplotype_freq.get(bubble, 0) + sum(visits)\n",
    "    return bubble_haplotype_freq"
   ]
  },
  {
   "cell_type": "code",
   "execution_count": 45,
   "metadata": {},
   "outputs": [
    {
     "name": "stderr",
     "output_type": "stream",
     "text": [
      "100%|██████████| 90/90 [01:57<00:00,  1.31s/it]\n",
      "100%|██████████| 90/90 [02:17<00:00,  1.53s/it]\n",
      "100%|██████████| 90/90 [01:28<00:00,  1.02it/s]\n",
      "100%|██████████| 90/90 [00:25<00:00,  3.59it/s]\n"
     ]
    }
   ],
   "source": [
    "RHD_superbubble_visit_dict = get_superbubble_visit_dict_for_haplotype_in_region(chr1_gfa_path, \n",
    "                                                                                chr1_superbubble_path, \n",
    "                                                                                RHD)\n",
    "\n",
    "HLA_superbubble_visit_dict = get_superbubble_visit_dict_for_haplotype_in_region(chr6_gfa_path, \n",
    "                                                                                chr6_superbubble_path, \n",
    "                                                                                HLA)\n",
    "\n",
    "C4_superbubble_visit_dict = get_superbubble_visit_dict_for_haplotype_in_region(chr6_gfa_path, \n",
    "                                                                                chr6_superbubble_path, \n",
    "                                                                                C4)\n",
    "\n",
    "CYP2D6_superbubble_visit_dict = get_superbubble_visit_dict_for_haplotype_in_region(chr22_gfa_path, \n",
    "                                                                                chr22_superbubble_path, \n",
    "                                                                                CYP2D6)"
   ]
  },
  {
   "cell_type": "code",
   "execution_count": 50,
   "metadata": {},
   "outputs": [],
   "source": [
    "RHD_hap_spb_freq = construct_bubble_haplotype_freq(RHD_superbubble_visit_dict)\n",
    "HLA_hap_spb_freq = construct_bubble_haplotype_freq(HLA_superbubble_visit_dict)\n",
    "C4_hap_spb_freq = construct_bubble_haplotype_freq(C4_superbubble_visit_dict)\n",
    "CYP2D6_hap_spb_freq = construct_bubble_haplotype_freq(CYP2D6_superbubble_visit_dict)"
   ]
  },
  {
   "cell_type": "code",
   "execution_count": 52,
   "metadata": {},
   "outputs": [
    {
     "data": {
      "text/plain": [
       "{('61729829', '61729832'): 90,\n",
       " ('61729826', '61729829'): 90,\n",
       " ('61729285', '61729826'): 90,\n",
       " ('61729282', '61729285'): 90,\n",
       " ('61729279', '61729282'): 90,\n",
       " ('61728301', '61729279'): 90,\n",
       " ('61728298', '61728301'): 90,\n",
       " ('61728296', '61728298'): 90,\n",
       " ('61728293', '61728296'): 90,\n",
       " ('61728290', '61728293'): 90}"
      ]
     },
     "execution_count": 52,
     "metadata": {},
     "output_type": "execute_result"
    }
   ],
   "source": [
    "C4_hap_spb_freq"
   ]
  },
  {
   "cell_type": "markdown",
   "metadata": {},
   "source": [
    "Bubble number in special regions"
   ]
  },
  {
   "cell_type": "code",
   "execution_count": 8,
   "metadata": {},
   "outputs": [],
   "source": [
    "example_haplotype = list(RHD_superbubble_visit_dict.keys())[0]\n",
    "\n",
    "RHD_bubble_count = len(RHD_superbubble_visit_dict[example_haplotype])\n",
    "HLA_bubble_count = len(HLA_superbubble_visit_dict[example_haplotype])\n",
    "C4_bubble_count = len(C4_superbubble_visit_dict[example_haplotype])\n",
    "CYP2D6_bubble_count = len(CYP2D6_superbubble_visit_dict[example_haplotype])\n",
    "\n",
    "bubble_count_in_region = pd.DataFrame({\n",
    "    \"Region\": [\"RHD\", \"HLA\", \"C4\", \"CYP2D6\"],\n",
    "    \"Number of superbubbles\": [RHD_bubble_count, HLA_bubble_count, C4_bubble_count, CYP2D6_bubble_count]\n",
    "})"
   ]
  },
  {
   "cell_type": "code",
   "execution_count": 9,
   "metadata": {},
   "outputs": [
    {
     "data": {
      "text/html": [
       "<div>\n",
       "<style scoped>\n",
       "    .dataframe tbody tr th:only-of-type {\n",
       "        vertical-align: middle;\n",
       "    }\n",
       "\n",
       "    .dataframe tbody tr th {\n",
       "        vertical-align: top;\n",
       "    }\n",
       "\n",
       "    .dataframe thead th {\n",
       "        text-align: right;\n",
       "    }\n",
       "</style>\n",
       "<table border=\"1\" class=\"dataframe\">\n",
       "  <thead>\n",
       "    <tr style=\"text-align: right;\">\n",
       "      <th></th>\n",
       "      <th>Region</th>\n",
       "      <th>Number of superbubbles</th>\n",
       "    </tr>\n",
       "  </thead>\n",
       "  <tbody>\n",
       "    <tr>\n",
       "      <th>0</th>\n",
       "      <td>RHD</td>\n",
       "      <td>1</td>\n",
       "    </tr>\n",
       "    <tr>\n",
       "      <th>1</th>\n",
       "      <td>HLA</td>\n",
       "      <td>1282</td>\n",
       "    </tr>\n",
       "    <tr>\n",
       "      <th>2</th>\n",
       "      <td>C4</td>\n",
       "      <td>10</td>\n",
       "    </tr>\n",
       "    <tr>\n",
       "      <th>3</th>\n",
       "      <td>CYP2D6</td>\n",
       "      <td>45</td>\n",
       "    </tr>\n",
       "  </tbody>\n",
       "</table>\n",
       "</div>"
      ],
      "text/plain": [
       "   Region  Number of superbubbles\n",
       "0     RHD                       1\n",
       "1     HLA                    1282\n",
       "2      C4                      10\n",
       "3  CYP2D6                      45"
      ]
     },
     "execution_count": 9,
     "metadata": {},
     "output_type": "execute_result"
    }
   ],
   "source": [
    "bubble_count_in_region"
   ]
  },
  {
   "cell_type": "code",
   "execution_count": 10,
   "metadata": {},
   "outputs": [],
   "source": [
    "bubble_count_in_region.to_csv(f\"/n/data1/hms/dbmi/oconnor/lab/shz311/pangenome/Special_region/superbubble_count_in_special_regions.csv\")"
   ]
  },
  {
   "cell_type": "markdown",
   "metadata": {},
   "source": [
    "Analysis 2: Variant summary in regions"
   ]
  },
  {
   "cell_type": "code",
   "execution_count": 15,
   "metadata": {},
   "outputs": [],
   "source": [
    "chr1_graph_vcf_path = f\"{graph_vcf_dir}/graph_chr1_no_terminus.vcf\"\n",
    "chr6_graph_vcf_path = f\"{graph_vcf_dir}/graph_chr6_no_terminus.vcf\"\n",
    "chr22_graph_vcf_path = f\"{graph_vcf_dir}/graph_chr22_no_terminus.vcf\""
   ]
  },
  {
   "cell_type": "code",
   "execution_count": 9,
   "metadata": {},
   "outputs": [],
   "source": [
    "chr1_raw_vcf_path = f\"{raw_vcf_dir}/hprc-v1.1-mc-grch38.raw_chr1.vcf\"\n",
    "chr6_raw_vcf_path = f\"{raw_vcf_dir}/hprc-v1.1-mc-grch38.raw_chr6.vcf\"\n",
    "chr22_raw_vcf_path = f\"{raw_vcf_dir}/hprc-v1.1-mc-grch38.raw_chr22.vcf\""
   ]
  },
  {
   "cell_type": "code",
   "execution_count": 10,
   "metadata": {},
   "outputs": [],
   "source": [
    "chr1_vcfwave_path = f\"{raw_vcf_dir}/hprc-v1.1-mc-grch38.vcfbub.a100k.wave_chr1.vcf\"\n",
    "chr6_vcfwave_path = f\"{raw_vcf_dir}/hprc-v1.1-mc-grch38.vcfbub.a100k.wave_chr6.vcf\"\n",
    "chr22_vcfwave_path = f\"{raw_vcf_dir}/hprc-v1.1-mc-grch38.vcfbub.a100k.wave_chr22.vcf\""
   ]
  },
  {
   "cell_type": "code",
   "execution_count": 16,
   "metadata": {},
   "outputs": [],
   "source": [
    "def filter_vcf_to_region(vcf_path, region_range):\n",
    "    vcf_df = read_vcf_to_dataframe(vcf_path)\n",
    "    return vcf_df[vcf_df['POS'].apply(lambda x: int(x) >= region_range[0] \n",
    "                                      and int(x) <= region_range[1])]\n",
    "\n",
    "def variant_type_summary_ourvcf(vcf_df):\n",
    "    var_dict = {}\n",
    "\n",
    "    for i in range(len(vcf_df)):\n",
    "        info_dict = get_info_dict(vcf_df['INFO'].iloc[i])\n",
    "        TR_MOTIF = 'tandem_repeat' if info_dict['TR_MOTIF'] != '.' else None\n",
    "        VT = info_dict['VT']\n",
    "        var_dict[VT] = var_dict.get(VT, 0) + 1\n",
    "        if TR_MOTIF:\n",
    "            var_dict[TR_MOTIF] = var_dict.get(TR_MOTIF, 0) + 1\n",
    "    return var_dict\n",
    "\n",
    "def alt_allele_num_rawvcf(vcf_df):\n",
    "    alt_allele_count = 0\n",
    "    for i in range(len(vcf_df)):\n",
    "        num = len(vcf_df['ALT'].iloc[i].split(','))\n",
    "        alt_allele_count += num\n",
    "    return alt_allele_count"
   ]
  },
  {
   "cell_type": "code",
   "execution_count": 17,
   "metadata": {},
   "outputs": [],
   "source": [
    "RHD_var_dict = variant_type_summary_ourvcf(filter_vcf_to_region(chr1_graph_vcf_path, RHD))\n",
    "HLA_var_dict = variant_type_summary_ourvcf(filter_vcf_to_region(chr6_graph_vcf_path, HLA))\n",
    "C4_var_dict = variant_type_summary_ourvcf(filter_vcf_to_region(chr6_graph_vcf_path, C4))\n",
    "CYP2D6_var_dict = variant_type_summary_ourvcf(filter_vcf_to_region(chr22_graph_vcf_path, CYP2D6))"
   ]
  },
  {
   "cell_type": "code",
   "execution_count": 18,
   "metadata": {},
   "outputs": [],
   "source": [
    "ourvcf_total = [sum(RHD_var_dict.values()) - RHD_var_dict.get(\"tandem_repeat\", 0), \n",
    "                sum(HLA_var_dict.values()) - HLA_var_dict.get(\"tandem_repeat\", 0), \n",
    "                sum(C4_var_dict.values()) - C4_var_dict.get(\"tandem_repeat\", 0), \n",
    "                sum(CYP2D6_var_dict.values()) - CYP2D6_var_dict.get(\"tandem_repeat\", 0)]\n",
    "\n",
    "special_region_variant_summary = pd.DataFrame({\n",
    "    \"Region\": [\"RHD\", \"HLA\", \"C4\", \"CYP2D6\"],\n",
    "    \"SNP\": [RHD_var_dict.get(\"SNP\", 0), HLA_var_dict.get(\"SNP\", 0), C4_var_dict.get(\"SNP\", 0), CYP2D6_var_dict.get(\"SNP\", 0)],\n",
    "    \"MNP\": [RHD_var_dict.get(\"MNP\", 0), HLA_var_dict.get(\"MNP\", 0), C4_var_dict.get(\"MNP\", 0), CYP2D6_var_dict.get(\"MNP\", 0)],\n",
    "    \"Insertion\": [RHD_var_dict.get(\"INS\", 0), HLA_var_dict.get(\"INS\", 0), C4_var_dict.get(\"INS\", 0), CYP2D6_var_dict.get(\"INS\", 0)],\n",
    "    \"Deletion\": [RHD_var_dict.get(\"DEL\", 0), HLA_var_dict.get(\"DEL\", 0), C4_var_dict.get(\"DEL\", 0), CYP2D6_var_dict.get(\"DEL\", 0)],\n",
    "    \"Replacement\": [RHD_var_dict.get(\"REP\", 0), HLA_var_dict.get(\"REP\", 0), C4_var_dict.get(\"REP\", 0), CYP2D6_var_dict.get(\"REP\", 0)],\n",
    "    \"Duplication\": [RHD_var_dict.get(\"DUP\", 0), HLA_var_dict.get(\"DUP\", 0), C4_var_dict.get(\"DUP\", 0), CYP2D6_var_dict.get(\"DUP\", 0)],\n",
    "    \"Tandem repeat\": [RHD_var_dict.get(\"tandem_repeat\", 0), HLA_var_dict.get(\"tandem_repeat\", 0), C4_var_dict.get(\"tandem_repeat\", 0), CYP2D6_var_dict.get(\"tandem_repeat\", 0)],\n",
    "    \"Inversion\": [RHD_var_dict.get(\"INV\", 0), HLA_var_dict.get(\"INV\", 0), C4_var_dict.get(\"INV\", 0), CYP2D6_var_dict.get(\"INV\", 0)],\n",
    "    \"Our vcf total\": ourvcf_total,\n",
    "    # \"Raw vcf total\": [RHD_raw_count, HLA_raw_count, C4_raw_count, CYP2D6_raw_count],\n",
    "    # \"Vcfwave total\": [RHD_wave_count, HLA_wave_count, C4_wave_count, CYP2D6_wave_count],\n",
    "})"
   ]
  },
  {
   "cell_type": "code",
   "execution_count": 19,
   "metadata": {},
   "outputs": [
    {
     "data": {
      "text/html": [
       "<div>\n",
       "<style scoped>\n",
       "    .dataframe tbody tr th:only-of-type {\n",
       "        vertical-align: middle;\n",
       "    }\n",
       "\n",
       "    .dataframe tbody tr th {\n",
       "        vertical-align: top;\n",
       "    }\n",
       "\n",
       "    .dataframe thead th {\n",
       "        text-align: right;\n",
       "    }\n",
       "</style>\n",
       "<table border=\"1\" class=\"dataframe\">\n",
       "  <thead>\n",
       "    <tr style=\"text-align: right;\">\n",
       "      <th></th>\n",
       "      <th>Region</th>\n",
       "      <th>SNP</th>\n",
       "      <th>MNP</th>\n",
       "      <th>Insertion</th>\n",
       "      <th>Deletion</th>\n",
       "      <th>Replacement</th>\n",
       "      <th>Duplication</th>\n",
       "      <th>Tandem repeat</th>\n",
       "      <th>Inversion</th>\n",
       "      <th>Our vcf total</th>\n",
       "    </tr>\n",
       "  </thead>\n",
       "  <tbody>\n",
       "    <tr>\n",
       "      <th>0</th>\n",
       "      <td>RHD</td>\n",
       "      <td>1248</td>\n",
       "      <td>42</td>\n",
       "      <td>153</td>\n",
       "      <td>151</td>\n",
       "      <td>5</td>\n",
       "      <td>0</td>\n",
       "      <td>256</td>\n",
       "      <td>2</td>\n",
       "      <td>1601</td>\n",
       "    </tr>\n",
       "    <tr>\n",
       "      <th>1</th>\n",
       "      <td>HLA</td>\n",
       "      <td>3951</td>\n",
       "      <td>161</td>\n",
       "      <td>245</td>\n",
       "      <td>299</td>\n",
       "      <td>48</td>\n",
       "      <td>0</td>\n",
       "      <td>400</td>\n",
       "      <td>0</td>\n",
       "      <td>4704</td>\n",
       "    </tr>\n",
       "    <tr>\n",
       "      <th>2</th>\n",
       "      <td>C4</td>\n",
       "      <td>474</td>\n",
       "      <td>12</td>\n",
       "      <td>24</td>\n",
       "      <td>21</td>\n",
       "      <td>5</td>\n",
       "      <td>0</td>\n",
       "      <td>31</td>\n",
       "      <td>0</td>\n",
       "      <td>536</td>\n",
       "    </tr>\n",
       "    <tr>\n",
       "      <th>3</th>\n",
       "      <td>CYP2D6</td>\n",
       "      <td>522</td>\n",
       "      <td>52</td>\n",
       "      <td>45</td>\n",
       "      <td>50</td>\n",
       "      <td>6</td>\n",
       "      <td>0</td>\n",
       "      <td>55</td>\n",
       "      <td>0</td>\n",
       "      <td>675</td>\n",
       "    </tr>\n",
       "  </tbody>\n",
       "</table>\n",
       "</div>"
      ],
      "text/plain": [
       "   Region   SNP  MNP  Insertion  Deletion  Replacement  Duplication  \\\n",
       "0     RHD  1248   42        153       151            5            0   \n",
       "1     HLA  3951  161        245       299           48            0   \n",
       "2      C4   474   12         24        21            5            0   \n",
       "3  CYP2D6   522   52         45        50            6            0   \n",
       "\n",
       "   Tandem repeat  Inversion  Our vcf total  \n",
       "0            256          2           1601  \n",
       "1            400          0           4704  \n",
       "2             31          0            536  \n",
       "3             55          0            675  "
      ]
     },
     "execution_count": 19,
     "metadata": {},
     "output_type": "execute_result"
    }
   ],
   "source": [
    "special_region_variant_summary"
   ]
  },
  {
   "cell_type": "code",
   "execution_count": 16,
   "metadata": {},
   "outputs": [
    {
     "data": {
      "text/html": [
       "<div>\n",
       "<style scoped>\n",
       "    .dataframe tbody tr th:only-of-type {\n",
       "        vertical-align: middle;\n",
       "    }\n",
       "\n",
       "    .dataframe tbody tr th {\n",
       "        vertical-align: top;\n",
       "    }\n",
       "\n",
       "    .dataframe thead th {\n",
       "        text-align: right;\n",
       "    }\n",
       "</style>\n",
       "<table border=\"1\" class=\"dataframe\">\n",
       "  <thead>\n",
       "    <tr style=\"text-align: right;\">\n",
       "      <th></th>\n",
       "      <th>Region</th>\n",
       "      <th>SNP</th>\n",
       "      <th>MNP</th>\n",
       "      <th>Insertion</th>\n",
       "      <th>Deletion</th>\n",
       "      <th>Replacement</th>\n",
       "      <th>Duplication</th>\n",
       "      <th>Tandem repeat</th>\n",
       "      <th>Inversion</th>\n",
       "      <th>Our vcf total</th>\n",
       "    </tr>\n",
       "  </thead>\n",
       "  <tbody>\n",
       "    <tr>\n",
       "      <th>0</th>\n",
       "      <td>RHD</td>\n",
       "      <td>1248</td>\n",
       "      <td>42</td>\n",
       "      <td>153</td>\n",
       "      <td>151</td>\n",
       "      <td>5</td>\n",
       "      <td>0</td>\n",
       "      <td>256</td>\n",
       "      <td>2</td>\n",
       "      <td>1601</td>\n",
       "    </tr>\n",
       "    <tr>\n",
       "      <th>1</th>\n",
       "      <td>HLA</td>\n",
       "      <td>3951</td>\n",
       "      <td>161</td>\n",
       "      <td>245</td>\n",
       "      <td>299</td>\n",
       "      <td>48</td>\n",
       "      <td>0</td>\n",
       "      <td>400</td>\n",
       "      <td>0</td>\n",
       "      <td>4704</td>\n",
       "    </tr>\n",
       "    <tr>\n",
       "      <th>2</th>\n",
       "      <td>C4</td>\n",
       "      <td>474</td>\n",
       "      <td>12</td>\n",
       "      <td>24</td>\n",
       "      <td>21</td>\n",
       "      <td>5</td>\n",
       "      <td>0</td>\n",
       "      <td>31</td>\n",
       "      <td>0</td>\n",
       "      <td>536</td>\n",
       "    </tr>\n",
       "    <tr>\n",
       "      <th>3</th>\n",
       "      <td>CYP2D6</td>\n",
       "      <td>522</td>\n",
       "      <td>52</td>\n",
       "      <td>45</td>\n",
       "      <td>50</td>\n",
       "      <td>6</td>\n",
       "      <td>0</td>\n",
       "      <td>55</td>\n",
       "      <td>0</td>\n",
       "      <td>675</td>\n",
       "    </tr>\n",
       "  </tbody>\n",
       "</table>\n",
       "</div>"
      ],
      "text/plain": [
       "   Region   SNP  MNP  Insertion  Deletion  Replacement  Duplication  \\\n",
       "0     RHD  1248   42        153       151            5            0   \n",
       "1     HLA  3951  161        245       299           48            0   \n",
       "2      C4   474   12         24        21            5            0   \n",
       "3  CYP2D6   522   52         45        50            6            0   \n",
       "\n",
       "   Tandem repeat  Inversion  Our vcf total  \n",
       "0            256          2           1601  \n",
       "1            400          0           4704  \n",
       "2             31          0            536  \n",
       "3             55          0            675  "
      ]
     },
     "execution_count": 16,
     "metadata": {},
     "output_type": "execute_result"
    }
   ],
   "source": [
    "special_region_variant_summary"
   ]
  },
  {
   "cell_type": "code",
   "execution_count": 17,
   "metadata": {},
   "outputs": [],
   "source": [
    "special_region_variant_summary.to_csv(f\"{data_vis_dir}/special_region_var_summary.csv\", index=False)"
   ]
  },
  {
   "cell_type": "markdown",
   "metadata": {},
   "source": [
    "Analysis 3: Large variants in special regions"
   ]
  },
  {
   "cell_type": "code",
   "execution_count": 32,
   "metadata": {},
   "outputs": [],
   "source": [
    "def filter_vcf_to_region_and_length(vcf_path, region_range, length_threshold=1000):\n",
    "    vcf_df = read_vcf_to_dataframe(vcf_path)\n",
    "    region_filter_bool = vcf_df['POS'].apply(lambda x: int(x) >= region_range[0] \n",
    "                                      and int(x) < region_range[1])\n",
    "    length_filter_bool = vcf_df.apply(lambda x: len(x['REF']) + len(x['ALT']) if x['REF'] != '.' else len(get_info_dict(x['INFO'])['OR']) + len(x['ALT']), \n",
    "                                      axis=1) >= length_threshold\n",
    "\n",
    "    return vcf_df[region_filter_bool & length_filter_bool]"
   ]
  },
  {
   "cell_type": "code",
   "execution_count": 34,
   "metadata": {},
   "outputs": [],
   "source": [
    "RHD_df = filter_vcf_to_region_and_length(chr1_graph_vcf_path, RHD)\n",
    "HLA_df = filter_vcf_to_region_and_length(chr6_graph_vcf_path, HLA)\n",
    "C4_df = filter_vcf_to_region_and_length(chr6_graph_vcf_path, C4)\n",
    "CYP2D6_df = filter_vcf_to_region_and_length(chr22_graph_vcf_path, CYP2D6)"
   ]
  },
  {
   "cell_type": "code",
   "execution_count": 45,
   "metadata": {},
   "outputs": [],
   "source": [
    "RHD_df.to_csv(f\"/n/data1/hms/dbmi/oconnor/lab/shz311/pangenome/Special_region/RHD_large_variants.tsv\", sep='\\t')\n",
    "HLA_df.to_csv(f\"/n/data1/hms/dbmi/oconnor/lab/shz311/pangenome/Special_region/HLA_large_variants.tsv\", sep='\\t')\n",
    "C4_df.to_csv(f\"/n/data1/hms/dbmi/oconnor/lab/shz311/pangenome/Special_region/C4_large_variants.tsv\", sep='\\t')\n",
    "CYP2D6_df.to_csv(f\"/n/data1/hms/dbmi/oconnor/lab/shz311/pangenome/Special_region/CYP2D6_large_variants.tsv\", sep='\\t')\n"
   ]
  },
  {
   "cell_type": "markdown",
   "metadata": {},
   "source": [
    "Supplement 1: All variants in special regions"
   ]
  },
  {
   "cell_type": "code",
   "execution_count": null,
   "metadata": {},
   "outputs": [],
   "source": [
    "RHD_df = filter_vcf_to_region(chr1_graph_vcf_path, RHD)\n",
    "HLA_df = filter_vcf_to_region(chr6_graph_vcf_path, HLA)\n",
    "C4_df = filter_vcf_to_region(chr6_graph_vcf_path, C4)\n",
    "CYP2D6_df = filter_vcf_to_region(chr22_graph_vcf_path, CYP2D6)"
   ]
  },
  {
   "cell_type": "code",
   "execution_count": null,
   "metadata": {},
   "outputs": [],
   "source": [
    "RHD_df.to_csv(f\"/n/data1/hms/dbmi/oconnor/lab/shz311/pangenome/Special_region/RHD_variants.tsv\", sep='\\t')\n",
    "HLA_df.to_csv(f\"/n/data1/hms/dbmi/oconnor/lab/shz311/pangenome/Special_region/HLA_variants.tsv\", sep='\\t')\n",
    "C4_df.to_csv(f\"/n/data1/hms/dbmi/oconnor/lab/shz311/pangenome/Special_region/C4_variants.tsv\", sep='\\t')\n",
    "CYP2D6_df.to_csv(f\"/n/data1/hms/dbmi/oconnor/lab/shz311/pangenome/Special_region/CYP2D6_variants.tsv\", sep='\\t')\n"
   ]
  },
  {
   "cell_type": "markdown",
   "metadata": {},
   "source": [
    "Analysis 4: Simplify the subgraph of the specific region"
   ]
  },
  {
   "cell_type": "code",
   "execution_count": 4,
   "metadata": {},
   "outputs": [],
   "source": [
    "chr1_graph_path = f\"{graph_obj_dir}/chr1.pkl.gz\"\n",
    "chr6_graph_path = f\"{graph_obj_dir}/chr6.pkl.gz\"\n",
    "chr22_graph_path = f\"{graph_obj_dir}/chr22.pkl.gz\""
   ]
  },
  {
   "cell_type": "markdown",
   "metadata": {},
   "source": [
    "RHD Region"
   ]
  },
  {
   "cell_type": "code",
   "execution_count": 5,
   "metadata": {},
   "outputs": [],
   "source": [
    "min_al = 1000"
   ]
  },
  {
   "cell_type": "code",
   "execution_count": 6,
   "metadata": {},
   "outputs": [],
   "source": [
    "G = load_graph_from_pkl(chr1_graph_path, compressed=True)"
   ]
  },
  {
   "cell_type": "code",
   "execution_count": 7,
   "metadata": {},
   "outputs": [],
   "source": [
    "subgraph = G.simplify_subgraph(RHD, minimum_allele_length=min_al)"
   ]
  },
  {
   "cell_type": "code",
   "execution_count": 9,
   "metadata": {},
   "outputs": [],
   "source": [
    "write_digraph_to_gfa(subgraph, f\"/n/data1/hms/dbmi/oconnor/lab/shz311/pangenome/Special_region/region_gfa/RHD_simplified_gt_{min_al}_{version}.gfa\")"
   ]
  },
  {
   "cell_type": "markdown",
   "metadata": {},
   "source": [
    "HLA Region"
   ]
  },
  {
   "cell_type": "code",
   "execution_count": 10,
   "metadata": {},
   "outputs": [],
   "source": [
    "min_al = 1000"
   ]
  },
  {
   "cell_type": "code",
   "execution_count": 12,
   "metadata": {},
   "outputs": [],
   "source": [
    "G = load_graph_from_pkl(chr6_graph_path, compressed=True)"
   ]
  },
  {
   "cell_type": "code",
   "execution_count": 13,
   "metadata": {},
   "outputs": [],
   "source": [
    "subgraph = G.simplify_subgraph(HLA, minimum_allele_length=min_al)"
   ]
  },
  {
   "cell_type": "code",
   "execution_count": 14,
   "metadata": {},
   "outputs": [],
   "source": [
    "write_digraph_to_gfa(subgraph, f\"/n/data1/hms/dbmi/oconnor/lab/shz311/pangenome/Special_region/region_gfa/HLA_simplified_gt_{min_al}_{version}.gfa\")"
   ]
  },
  {
   "cell_type": "markdown",
   "metadata": {},
   "source": [
    "C4 Region"
   ]
  },
  {
   "cell_type": "code",
   "execution_count": 97,
   "metadata": {},
   "outputs": [],
   "source": [
    "min_al = 100"
   ]
  },
  {
   "cell_type": "code",
   "execution_count": 25,
   "metadata": {},
   "outputs": [],
   "source": [
    "G = load_graph_from_pkl(chr6_graph_path)"
   ]
  },
  {
   "cell_type": "code",
   "execution_count": 98,
   "metadata": {},
   "outputs": [],
   "source": [
    "subgraph = G.simplify_subgraph(C4, minimum_allele_length=min_al)"
   ]
  },
  {
   "cell_type": "code",
   "execution_count": 27,
   "metadata": {},
   "outputs": [
    {
     "data": {
      "image/png": "[encoded data removed]",
      "text/plain": [
       "<Figure size 600x400 with 1 Axes>"
      ]
     },
     "metadata": {},
     "output_type": "display_data"
    }
   ],
   "source": [
    "import networkx as nx\n",
    "import matplotlib.pyplot as plt\n",
    "\n",
    "plt.figure(figsize=(6, 4))\n",
    "nx.draw(subgraph)\n",
    "\n",
    "plt.savefig(\"/n/data1/hms/dbmi/oconnor/lab/shz311/pangenome/Special_region/png_file/C4_simplified.png\", format=\"png\", dpi=300)\n",
    "plt.show()"
   ]
  },
  {
   "cell_type": "code",
   "execution_count": 99,
   "metadata": {},
   "outputs": [],
   "source": [
    "write_digraph_to_gfa(subgraph, f\"/n/data1/hms/dbmi/oconnor/lab/shz311/pangenome/Special_region/region_gfa/C4_simplified_gt_{min_al}.gfa\")"
   ]
  },
  {
   "cell_type": "markdown",
   "metadata": {},
   "source": [
    "CYP2D6 Region"
   ]
  },
  {
   "cell_type": "code",
   "execution_count": 104,
   "metadata": {},
   "outputs": [],
   "source": [
    "min_al = 100"
   ]
  },
  {
   "cell_type": "code",
   "execution_count": 101,
   "metadata": {},
   "outputs": [],
   "source": [
    "G = load_graph_from_pkl(chr22_graph_path)"
   ]
  },
  {
   "cell_type": "code",
   "execution_count": 105,
   "metadata": {},
   "outputs": [],
   "source": [
    "subgraph = G.simplify_subgraph(CYP2D6, minimum_allele_length=min_al)"
   ]
  },
  {
   "cell_type": "code",
   "execution_count": 47,
   "metadata": {},
   "outputs": [
    {
     "data": {
      "image/png": "[encoded data removed]",
      "text/plain": [
       "<Figure size 600x400 with 1 Axes>"
      ]
     },
     "metadata": {},
     "output_type": "display_data"
    }
   ],
   "source": [
    "import networkx as nx\n",
    "import matplotlib.pyplot as plt\n",
    "\n",
    "plt.figure(figsize=(6, 4))\n",
    "nx.draw(subgraph)\n",
    "\n",
    "plt.savefig(\"/n/data1/hms/dbmi/oconnor/lab/shz311/pangenome/Special_region/png_file/CYP2D6_simplified.png\", format=\"png\", dpi=300)\n",
    "plt.show()"
   ]
  },
  {
   "cell_type": "code",
   "execution_count": 106,
   "metadata": {},
   "outputs": [],
   "source": [
    "write_digraph_to_gfa(subgraph, f\"/n/data1/hms/dbmi/oconnor/lab/shz311/pangenome/Special_region/region_gfa/CYP2D6_simplified_gt_{min_al}.gfa\")"
   ]
  }
 ],
 "metadata": {
  "kernelspec": {
   "display_name": "Python 3",
   "language": "python",
   "name": "python3"
  },
  "language_info": {
   "codemirror_mode": {
    "name": "ipython",
    "version": 3
   },
   "file_extension": ".py",
   "mimetype": "text/x-python",
   "name": "python",
   "nbconvert_exporter": "python",
   "pygments_lexer": "ipython3",
   "version": "3.10.0"
  }
 },
 "nbformat": 4,
 "nbformat_minor": 2
}
