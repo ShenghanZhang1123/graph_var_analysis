{
 "cells": [
  {
   "cell_type": "code",
   "execution_count": 1,
   "id": "initial_id",
   "metadata": {
    "collapsed": true
   },
   "outputs": [],
   "source": [
    "import os\n",
    "os.chdir('/n/data1/hms/dbmi/oconnor/lab/shz311/pangenome/graph_var')\n",
    "\n",
    "from graph_var.evaluating_functions import *\n",
    "from graph_var.graph import PangenomeGraph\n",
    "from graph_var.utils import *\n",
    "\n",
    "gfa_dir = '/n/data1/hms/dbmi/oconnor/lab/shz311/pangenome/Data/chromosome_gfa'\n",
    "graph_obj_dir = '/n/data1/hms/dbmi/oconnor/lab/shz311/pangenome/Graph_objs'"
   ]
  },
  {
   "cell_type": "code",
   "execution_count": 2,
   "id": "f32ddc213e9a3a32",
   "metadata": {
    "collapsed": false
   },
   "outputs": [
    {
     "name": "stdout",
     "output_type": "stream",
     "text": [
      "Processing chr22...\n",
      "Reference walk: 1\n",
      "Num of binodes: 1279333\n",
      "Num of biedges: 1780739\n",
      "Assigning node directions\n",
      "Computing reference tree\n",
      "Computing branch points\n",
      "Computing positions\n"
     ]
    }
   ],
   "source": [
    "chr_list = list(range(1,23)) + ['EBV']\n",
    "chr_list = [22]\n",
    "\n",
    "output_dir = graph_obj_dir\n",
    "\n",
    "for chr in chr_list:\n",
    "    print(f\"Processing chr{chr}...\")\n",
    "    gfa_path = f\"{gfa_dir}/chr{chr}.gfa\"\n",
    "\n",
    "    G, walks, walk_sample_names = PangenomeGraph.from_gfa(gfa_path,\n",
    "                                                          return_walks=True,\n",
    "                                                          compressed=False)\n",
    "    chr_name = os.path.basename(gfa_path).split('.')[0]\n",
    "    save_path = os.path.join(output_dir, chr_name+'.pkl')\n",
    "    save_graph_to_pkl(G, walks, walk_sample_names, save_path)"
   ]
  }
 ],
 "metadata": {
  "kernelspec": {
   "display_name": "Python 3",
   "language": "python",
   "name": "python3"
  },
  "language_info": {
   "codemirror_mode": {
    "name": "ipython",
    "version": 3
   },
   "file_extension": ".py",
   "mimetype": "text/x-python",
   "name": "python",
   "nbconvert_exporter": "python",
   "pygments_lexer": "ipython3",
   "version": "3.10.0"
  }
 },
 "nbformat": 4,
 "nbformat_minor": 5
}
