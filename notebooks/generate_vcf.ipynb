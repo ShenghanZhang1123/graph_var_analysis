{
 "cells": [
  {
   "cell_type": "code",
   "execution_count": 1,
   "metadata": {},
   "outputs": [],
   "source": [
    "import os\n",
    "os.chdir('/n/data1/hms/dbmi/oconnor/lab/shz311/pangenome/graph_var')\n",
    "\n",
    "from graph_var.utils import load_graph_from_pkl\n",
    "from graph_var.graph import PangenomeGraph\n",
    "from graph_var.evaluating_functions import *\n",
    "import pandas as pd\n",
    "\n",
    "graph_obj_dir = '/n/data1/hms/dbmi/oconnor/lab/shz311/pangenome/Graph_objs'\n",
    "vcf_dir = '/n/data1/hms/dbmi/oconnor/lab/shz311/pangenome/VCFs_update'"
   ]
  },
  {
   "cell_type": "code",
   "execution_count": 2,
   "metadata": {},
   "outputs": [
    {
     "name": "stdout",
     "output_type": "stream",
     "text": [
      "Processing chr21...\n"
     ]
    },
    {
     "name": "stderr",
     "output_type": "stream",
     "text": [
      "100%|██████████| 512977/512977 [06:08<00:00, 1393.31it/s]\n"
     ]
    },
    {
     "name": "stdout",
     "output_type": "stream",
     "text": [
      "Processing chr22...\n"
     ]
    },
    {
     "name": "stderr",
     "output_type": "stream",
     "text": [
      "100%|██████████| 501421/501421 [06:58<00:00, 1199.15it/s]\n"
     ]
    }
   ],
   "source": [
    "chr_list = list(range(1,23))\n",
    "#chr_list = [21]\n",
    "\n",
    "exclude_terminus = True\n",
    "\n",
    "for chr in chr_list:\n",
    "    print(f\"Processing chr{chr}...\")\n",
    "    graph_path = f\"{graph_obj_dir}/chr{chr}.pkl\"\n",
    "    if exclude_terminus:\n",
    "        vcf_path = f\"{vcf_dir}/graph_chr{chr}_no_terminus.vcf\" \n",
    "    else:\n",
    "        vcf_path = f\"{vcf_dir}/graph_chr{chr}.vcf\"\n",
    "    tree_path = f\"{vcf_dir}/graph_chr{chr}.tree\"\n",
    "\n",
    "    G, walks, walk_sample_names = load_graph_from_pkl(graph_path, compressed=False)\n",
    "    G.write_vcf(walks, walk_sample_names, vcf_path, tree_path, f\"chr{chr}\", exclude_terminus=exclude_terminus)"
   ]
  },
  {
   "cell_type": "code",
   "execution_count": 2,
   "metadata": {},
   "outputs": [
    {
     "name": "stdout",
     "output_type": "stream",
     "text": [
      "Processing chr11...\n"
     ]
    },
    {
     "name": "stdout",
     "output_type": "stream",
     "text": [
      "Processing chr12...\n",
      "Processing chr13...\n",
      "Processing chr14...\n",
      "Processing chr15...\n",
      "Processing chr16...\n",
      "Processing chr17...\n",
      "Processing chr18...\n",
      "Processing chr19...\n",
      "Processing chr20...\n",
      "Processing chr21...\n",
      "Processing chr22...\n"
     ]
    }
   ],
   "source": [
    "chr_list = list(range(11,23))\n",
    "#chr_list = [21]\n",
    "\n",
    "exclude_terminus = True\n",
    "\n",
    "for chr in chr_list:\n",
    "    print(f\"Processing chr{chr}...\")\n",
    "    if exclude_terminus:\n",
    "        vcf_path = f\"{vcf_dir}/graph_chr{chr}_no_terminus.vcf\" \n",
    "    else:\n",
    "        vcf_path = f\"{vcf_dir}/graph_chr{chr}.vcf\"\n",
    "    \n",
    "    vcf_df, meta_info = read_vcf_to_dataframe(vcf_path, return_meta_info=True)\n",
    "\n",
    "    meta_info.insert(-1, '##INFO=<ID=NIA,Number=0,Type=Flag,Description=\"Nearly identical alleles\">\\n')\n",
    "    meta_info = ''.join(meta_info)\n",
    "\n",
    "    def flag_nearly_identical_alleles(x):\n",
    "        if x['REF'] != '.':\n",
    "            nearly_identical = nearly_identical_alleles(x['REF'], x['ALT'])\n",
    "        else:\n",
    "            nearly_identical = nearly_identical_alleles(get_info_dict(x['INFO'])['OR'], x['ALT'])\n",
    "        \n",
    "        if nearly_identical:\n",
    "            return x['INFO']+\"NIA=1\"\n",
    "        else:\n",
    "            return x['INFO']\n",
    "\n",
    "    vcf_df['INFO'] = vcf_df.apply(lambda x: flag_nearly_identical_alleles(x), axis=1)\n",
    "\n",
    "    if exclude_terminus:\n",
    "        vcf_path_flag = f\"{vcf_dir}/flag_NIA_vcf/graph_chr{chr}_no_terminus.vcf\"\n",
    "    else:\n",
    "        vcf_path_flag = f\"{vcf_dir}/flag_NIA_vcf/graph_chr{chr}.vcf\"\n",
    "\n",
    "    with open(vcf_path_flag, 'w', newline='') as file:\n",
    "        file.write(meta_info)\n",
    "        vcf_df.to_csv(file, sep='\\t', index=False)"
   ]
  }
 ],
 "metadata": {
  "kernelspec": {
   "display_name": "Python 3",
   "language": "python",
   "name": "python3"
  },
  "language_info": {
   "codemirror_mode": {
    "name": "ipython",
    "version": 3
   },
   "file_extension": ".py",
   "mimetype": "text/x-python",
   "name": "python",
   "nbconvert_exporter": "python",
   "pygments_lexer": "ipython3",
   "version": "3.10.0"
  }
 },
 "nbformat": 4,
 "nbformat_minor": 2
}
