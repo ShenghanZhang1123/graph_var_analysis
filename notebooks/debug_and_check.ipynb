{
 "cells": [
  {
   "cell_type": "code",
   "execution_count": 1,
   "id": "initial_id",
   "metadata": {
    "collapsed": true,
    "ExecuteTime": {
     "end_time": "2025-02-25T05:37:50.413202600Z",
     "start_time": "2025-02-25T05:37:49.013185Z"
    }
   },
   "outputs": [],
   "source": [
    "from graph_var.utils import *\n",
    "from graph_var.graph import PangenomeGraph\n",
    "from graph_var_analysis.evaluating_functions import *\n",
    "import pandas as pd\n",
    "from math import inf"
   ]
  },
  {
   "cell_type": "code",
   "execution_count": 8,
   "outputs": [],
   "source": [
    "import os\n",
    "os.chdir('D:\\Pycharm\\GFA_Project')"
   ],
   "metadata": {
    "collapsed": false,
    "ExecuteTime": {
     "end_time": "2025-02-20T03:16:53.705657700Z",
     "start_time": "2025-02-20T03:16:53.690051900Z"
    }
   },
   "id": "bb1c931d606cef98"
  },
  {
   "cell_type": "code",
   "execution_count": 9,
   "outputs": [],
   "source": [
    "graph_obj_dir = './Graph_objs'\n",
    "raw_vcf_dir = './VCFs_chr'\n",
    "sub_vcf_dir = './VCFs_subset'\n",
    "graph_vcf_dir = './VCFs_update'\n",
    "stats_dir = './Stats_update'\n",
    "ac_dir = './Bubble_result_update'\n",
    "tree_dir = './Tree'\n",
    "region_dir = './Region_files'\n",
    "bubble_summary_dir = './Bubble_summary'\n",
    "bubble_result_dir = './Bubble_result_update'"
   ],
   "metadata": {
    "collapsed": false,
    "ExecuteTime": {
     "end_time": "2025-02-20T03:16:53.721263700Z",
     "start_time": "2025-02-20T03:16:53.705657700Z"
    }
   },
   "id": "55d61fb8b90335f"
  },
  {
   "cell_type": "code",
   "execution_count": 15,
   "outputs": [],
   "source": [
    "def genotype_and_linear_coverage_by_sample(graph, walks):\n",
    "    \"\"\"\n",
    "    Integrates the genotype of each sample from the genotype of each walk.\n",
    "    :param walks: list of walks for each sample\n",
    "    :return:\n",
    "    \"\"\"\n",
    "    cr_dict_haplotype = dict()\n",
    "    ca_dict_haplotype = dict()\n",
    "\n",
    "    for walk in walks:\n",
    "        cr_dict_walk, ca_dict_walk = genotype(graph, walk)\n",
    "        for edge, count in cr_dict_walk.items():\n",
    "            if edge in cr_dict_haplotype:\n",
    "                cr_dict_haplotype[edge] += count\n",
    "            else:\n",
    "                cr_dict_haplotype[edge] = count\n",
    "        for edge, count in ca_dict_walk.items():\n",
    "            if edge in ca_dict_haplotype:\n",
    "                ca_dict_haplotype[edge] += count\n",
    "            else:\n",
    "                ca_dict_haplotype[edge] = count\n",
    "\n",
    "    return cr_dict_haplotype, ca_dict_haplotype\n",
    "\n",
    "def genotype(graph, walk, representative=True):\n",
    "    # Append start and end nodes to walk\n",
    "    start = [graph.termini[0] + '_+' if graph.direction(walk[0]) == 1 else graph.termini[1] + '_-']\n",
    "    end = [graph.termini[1] + '_+' if graph.direction(walk[-1]) == 1 else graph.termini[0] + '_-']\n",
    "    walk = start + walk + end\n",
    "\n",
    "    count_ref = {}\n",
    "    count_alt = {}\n",
    "    for e in zip(walk[:-1], walk[1:]):\n",
    "        if not graph.has_edge(*e):\n",
    "            raise ValueError(f\"Specified list contains edge {e} which is not present in the graph\")\n",
    "        \n",
    "        if representative:\n",
    "            if not graph.edges[e]['is_representative']:\n",
    "                e = edge_complement(e)\n",
    "\n",
    "        if graph.edges[e]['is_in_tree']:\n",
    "            count_ref[e] = count_ref.get(e, 0) + 1\n",
    "        else:\n",
    "            count_alt[e] = count_alt.get(e, 0) + 1\n",
    "\n",
    "    return count_ref, count_alt\n",
    "\n",
    "def summarise_walk(G, walk):\n",
    "    edge_dict = {}\n",
    "    for edge in zip(walk[:-1], walk[1:]):\n",
    "        if G.edges[edge]['is_in_tree']:\n",
    "            edge_dict['in_tree'] = edge_dict.get('in_tree', 0) + 1\n",
    "        else:\n",
    "            if not G.edges[edge]['is_representative']:\n",
    "                edge = edge_complement(edge)\n",
    "            var_type = G.identify_variant_type(edge)\n",
    "            edge_dict[var_type] = edge_dict.get(var_type, 0) + 1\n",
    "    return {k: edge_dict[k] for k in sorted(edge_dict.keys())}\n",
    "\n",
    "def get_combinations(n):\n",
    "    nums = list(range(n))  # Generate numbers from 0 to n-1\n",
    "    result = []\n",
    "    \n",
    "    for i in range(n):\n",
    "        for j in range(i + 1, n):  # Ensure i < j to avoid duplicates\n",
    "            result.append((i, j))\n",
    "\n",
    "    return result"
   ],
   "metadata": {
    "collapsed": false,
    "ExecuteTime": {
     "end_time": "2025-02-20T03:22:49.764132Z",
     "start_time": "2025-02-20T03:22:49.736146800Z"
    }
   },
   "id": "cf88350b1f8828c4"
  },
  {
   "cell_type": "markdown",
   "source": [
    "Count edges shared between walks of the same haplotype, just looking at those with allele count > 1"
   ],
   "metadata": {
    "collapsed": false
   },
   "id": "84d93fd06a2df139"
  },
  {
   "cell_type": "code",
   "execution_count": 11,
   "outputs": [],
   "source": [
    "graph_path = f\"{graph_obj_dir}/chr22.pkl\"\n",
    "G, walks, sample_names = load_graph_from_pkl(graph_path)"
   ],
   "metadata": {
    "collapsed": false,
    "ExecuteTime": {
     "end_time": "2025-02-20T03:17:17.651297900Z",
     "start_time": "2025-02-20T03:16:57.242078600Z"
    }
   },
   "id": "ecaf749fbb21d6af"
  },
  {
   "cell_type": "code",
   "execution_count": 12,
   "outputs": [],
   "source": [
    "sample_walks_dict = group_walks_by_name(walks, sample_names)"
   ],
   "metadata": {
    "collapsed": false,
    "ExecuteTime": {
     "end_time": "2025-02-20T03:17:20.193485Z",
     "start_time": "2025-02-20T03:17:20.174776900Z"
    }
   },
   "id": "616698f924a699f0"
  },
  {
   "cell_type": "code",
   "execution_count": 6,
   "outputs": [
    {
     "data": {
      "text/plain": "(2558670, 3562850, 502091)"
     },
     "execution_count": 6,
     "metadata": {},
     "output_type": "execute_result"
    }
   ],
   "source": [
    "len(G.nodes()), len(G.edges()), len(G.variant_edges)"
   ],
   "metadata": {
    "collapsed": false,
    "ExecuteTime": {
     "end_time": "2025-02-20T03:06:13.267596500Z",
     "start_time": "2025-02-20T03:06:13.091473200Z"
    }
   },
   "id": "df330d4104e50461"
  },
  {
   "cell_type": "markdown",
   "source": [
    "Number of edges that have allele count > 1"
   ],
   "metadata": {
    "collapsed": false
   },
   "id": "4810a5423b055a36"
  },
  {
   "cell_type": "code",
   "execution_count": 6,
   "outputs": [],
   "source": [
    "sample_walk_edges_dict = {sample_name: [{edge for edge in zip(walk[:-1], walk[1:])} for walk in walks] \n",
    "                          for sample_name, walks in sample_walks_dict.items()}"
   ],
   "metadata": {
    "collapsed": false,
    "ExecuteTime": {
     "end_time": "2025-02-19T02:35:11.707137600Z",
     "start_time": "2025-02-19T02:35:02.042092Z"
    }
   },
   "id": "b0772e309b9ccc33"
  },
  {
   "cell_type": "code",
   "execution_count": 10,
   "outputs": [],
   "source": [
    "sample_data_dict = {sample_name: genotype_and_linear_coverage_by_sample(G, walks) for sample_name, walks in sample_walks_dict.items()}"
   ],
   "metadata": {
    "collapsed": false,
    "ExecuteTime": {
     "end_time": "2025-02-19T02:03:15.763068400Z",
     "start_time": "2025-02-19T01:57:52.707308Z"
    }
   },
   "id": "9a6b93b76e7117da"
  },
  {
   "cell_type": "code",
   "execution_count": 13,
   "outputs": [],
   "source": [
    "suspected_overlap_ref_edges = {ref_edge for sample in sample_data_dict.keys() for ref_edge in sample_data_dict[sample][0].keys() if sample_data_dict[sample][0][ref_edge] > 1}\n",
    "\n",
    "suspected_overlap_alt_edges = {alt_edge for sample in sample_data_dict.keys() for alt_edge in sample_data_dict[sample][1].keys() if sample_data_dict[sample][1][alt_edge] > 1}"
   ],
   "metadata": {
    "collapsed": false,
    "ExecuteTime": {
     "end_time": "2025-02-19T02:13:05.475431600Z",
     "start_time": "2025-02-19T02:12:56.992790200Z"
    }
   },
   "id": "e77c85cf9fab208c"
  },
  {
   "cell_type": "code",
   "execution_count": 14,
   "outputs": [
    {
     "data": {
      "text/plain": "(194976, 14074)"
     },
     "execution_count": 14,
     "metadata": {},
     "output_type": "execute_result"
    }
   ],
   "source": [
    "len(suspected_overlap_ref_edges), len(suspected_overlap_alt_edges)"
   ],
   "metadata": {
    "collapsed": false,
    "ExecuteTime": {
     "end_time": "2025-02-19T02:13:14.016425600Z",
     "start_time": "2025-02-19T02:13:13.996424100Z"
    }
   },
   "id": "448eb9741760e5a5"
  },
  {
   "cell_type": "markdown",
   "source": [
    "Number of edges that are shared between walks of the same haplotype"
   ],
   "metadata": {
    "collapsed": false
   },
   "id": "96706560d0586440"
  },
  {
   "cell_type": "code",
   "execution_count": 48,
   "outputs": [],
   "source": [
    "overlap_edge_dict = dict()\n",
    "\n",
    "for sample, walks in sample_walk_edges_dict.items():\n",
    "    if len(walks) <= 1:\n",
    "        continue\n",
    "    overlap_edges = set()\n",
    "    combinations = get_combinations(len(walks))\n",
    "    for idx1, idx2 in combinations:\n",
    "        edge_set1 = walks[idx1]\n",
    "        edge_set2 = walks[idx2]\n",
    "        \n",
    "        shared_edges = edge_set1.intersection(edge_set2)\n",
    "        overlap_edges = overlap_edges.union(shared_edges)\n",
    "    overlap_edge_dict[sample] = overlap_edges"
   ],
   "metadata": {
    "collapsed": false,
    "ExecuteTime": {
     "end_time": "2025-02-19T02:59:01.146956600Z",
     "start_time": "2025-02-19T02:59:00.049625700Z"
    }
   },
   "id": "48f06a51991fc5ec"
  },
  {
   "cell_type": "code",
   "execution_count": 51,
   "outputs": [],
   "source": [
    "all_overlap_edges = {edge for edges in overlap_edge_dict.values() for edge in edges}"
   ],
   "metadata": {
    "collapsed": false,
    "ExecuteTime": {
     "end_time": "2025-02-19T03:08:47.906420Z",
     "start_time": "2025-02-19T03:08:47.886420Z"
    }
   },
   "id": "43cd397a389bf00e"
  },
  {
   "cell_type": "code",
   "execution_count": 53,
   "outputs": [
    {
     "data": {
      "text/plain": "47015"
     },
     "execution_count": 53,
     "metadata": {},
     "output_type": "execute_result"
    }
   ],
   "source": [
    "len(all_overlap_edges)"
   ],
   "metadata": {
    "collapsed": false,
    "ExecuteTime": {
     "end_time": "2025-02-19T03:15:52.071879800Z",
     "start_time": "2025-02-19T03:15:52.034421800Z"
    }
   },
   "id": "e084b29935c6a555"
  },
  {
   "cell_type": "markdown",
   "source": [
    "Examples of shared edge"
   ],
   "metadata": {
    "collapsed": false
   },
   "id": "a952e4e72099646a"
  },
  {
   "cell_type": "code",
   "execution_count": 57,
   "outputs": [
    {
     "data": {
      "text/plain": "['HG00438_1', 'HG00621_1', 'HG00673_1', 'HG00733_2', 'HG00741_2']"
     },
     "execution_count": 57,
     "metadata": {},
     "output_type": "execute_result"
    }
   ],
   "source": [
    "[key for key, value in overlap_edge_dict.items() if len(value) > 0][:5]"
   ],
   "metadata": {
    "collapsed": false,
    "ExecuteTime": {
     "end_time": "2025-02-19T03:17:53.585188200Z",
     "start_time": "2025-02-19T03:17:53.565861100Z"
    }
   },
   "id": "7b99e0c48125b04a"
  },
  {
   "cell_type": "code",
   "execution_count": 58,
   "outputs": [
    {
     "data": {
      "text/plain": "[('44479139_+', '44479137_+'),\n ('44479227_+', '44479224_+'),\n ('45343553_+', '45343554_+'),\n ('44479285_+', '44479284_+'),\n ('44478856_+', '44478855_+')]"
     },
     "execution_count": 58,
     "metadata": {},
     "output_type": "execute_result"
    }
   ],
   "source": [
    "list(overlap_edge_dict['HG00438_1'])[:5]"
   ],
   "metadata": {
    "collapsed": false,
    "ExecuteTime": {
     "end_time": "2025-02-19T03:18:05.177099200Z",
     "start_time": "2025-02-19T03:18:05.157154900Z"
    }
   },
   "id": "dfab6b81a0d69c39"
  },
  {
   "cell_type": "code",
   "execution_count": null,
   "outputs": [],
   "source": [],
   "metadata": {
    "collapsed": false
   },
   "id": "4388997ccd08ab3c"
  },
  {
   "cell_type": "code",
   "execution_count": null,
   "outputs": [],
   "source": [
    "graph_path = f\"{graph_obj_dir}/chr22.pkl\"\n",
    "G, walks, sample_names = load_graph_from_pkl(graph_path)\n",
    "sample_walks_dict = group_walks_by_name(walks, sample_names)"
   ],
   "metadata": {
    "collapsed": false
   },
   "id": "847c2ee32f5ca97a"
  },
  {
   "cell_type": "markdown",
   "source": [
    "Case 1: Two walk indeed share the same edge"
   ],
   "metadata": {
    "collapsed": false
   },
   "id": "e99b02ff59df143b"
  },
  {
   "cell_type": "code",
   "execution_count": 74,
   "outputs": [],
   "source": [
    "sample_example = 'HG00438_1'\n",
    "edge_example = ('44479139_+', '44479137_+')"
   ],
   "metadata": {
    "collapsed": false,
    "ExecuteTime": {
     "end_time": "2025-02-19T03:39:30.357252Z",
     "start_time": "2025-02-19T03:39:30.347251800Z"
    }
   },
   "id": "e9ba8984ba0fcdb7"
  },
  {
   "cell_type": "code",
   "execution_count": 76,
   "outputs": [
    {
     "name": "stdout",
     "output_type": "stream",
     "text": [
      "4 4\n",
      "('44479139_+', '44479137_+')\n",
      "[1, 0, 1, 0]\n"
     ]
    }
   ],
   "source": [
    "sample_genotypes = [genotype(G, walk) for walk in sample_walks_dict[sample_example]]\n",
    "\n",
    "print(len(sample_genotypes), len(sample_walks_dict[sample_example]))\n",
    "\n",
    "tree_ref_edge = G.reference_tree_edge(edge_example)\n",
    "print(tree_ref_edge)\n",
    "\n",
    "print([sample_genotypes[i][0].get(tree_ref_edge, 0) for i in range(len(sample_genotypes))])"
   ],
   "metadata": {
    "collapsed": false,
    "ExecuteTime": {
     "end_time": "2025-02-19T03:40:17.057954900Z",
     "start_time": "2025-02-19T03:40:08.718262400Z"
    }
   },
   "id": "8701c1b27462dd7e"
  },
  {
   "cell_type": "code",
   "execution_count": 77,
   "outputs": [
    {
     "data": {
      "text/plain": "(True, True)"
     },
     "execution_count": 77,
     "metadata": {},
     "output_type": "execute_result"
    }
   ],
   "source": [
    "walk_edges_1 = {edge for edge in zip(sample_walks_dict[sample_example][0][:-1], sample_walks_dict[sample_example][0][1:])}\n",
    "walk_edges_2 = {edge for edge in zip(sample_walks_dict[sample_example][2][:-1], sample_walks_dict[sample_example][2][1:])}\n",
    "\n",
    "tree_ref_edge in walk_edges_1, tree_ref_edge in walk_edges_2"
   ],
   "metadata": {
    "collapsed": false,
    "ExecuteTime": {
     "end_time": "2025-02-19T03:40:25.197249600Z",
     "start_time": "2025-02-19T03:40:25.013903200Z"
    }
   },
   "id": "e56c14442c6f130b"
  },
  {
   "cell_type": "code",
   "execution_count": null,
   "outputs": [],
   "source": [
    "[(idx+1, summarise_walk(G, walk)) for idx, walk in enumerate(sample_walks_dict[sample_example])]"
   ],
   "metadata": {
    "collapsed": false
   },
   "id": "ec72a92c349d8b88"
  },
  {
   "cell_type": "markdown",
   "source": [
    "Case 2: Two walk share the complementary edges, one walk visits the edge and the other visits the complement of the edge"
   ],
   "metadata": {
    "collapsed": false
   },
   "id": "8bccf23c7f529f6e"
  },
  {
   "cell_type": "code",
   "execution_count": 69,
   "outputs": [
    {
     "name": "stdout",
     "output_type": "stream",
     "text": [
      "6 6\n",
      "('44986610_+', '44987812_+')\n",
      "[0, 1, 0, 1, 0, 0]\n",
      "False False\n"
     ]
    }
   ],
   "source": [
    "sample_example = 'HG01071_2'\n",
    "variant_edge_example = ('44987811_-', '44987812_+')\n",
    "sample_genotypes = [genotype(G, walk) for walk in sample_walks_dict[sample_example]]\n",
    "\n",
    "print(len(sample_genotypes), len(sample_walks_dict[sample_example]))\n",
    "\n",
    "tree_ref_edge = G.reference_tree_edge(variant_edge_example)\n",
    "print(tree_ref_edge)\n",
    "\n",
    "print([sample_genotypes[i][0].get(tree_ref_edge, 0) for i in range(len(sample_genotypes))])"
   ],
   "metadata": {
    "collapsed": false,
    "ExecuteTime": {
     "end_time": "2025-02-19T03:35:49.328961400Z",
     "start_time": "2025-02-19T03:35:40.210992200Z"
    }
   },
   "id": "5107dfe48e3e6447"
  },
  {
   "cell_type": "code",
   "execution_count": 73,
   "outputs": [
    {
     "data": {
      "text/plain": "(True, True)"
     },
     "execution_count": 73,
     "metadata": {},
     "output_type": "execute_result"
    }
   ],
   "source": [
    "walk_edges_1 = {edge for edge in zip(sample_walks_dict[sample_example][1][:-1], sample_walks_dict[sample_example][1][1:])}\n",
    "walk_edges_2 = {edge for edge in zip(sample_walks_dict[sample_example][3][:-1], sample_walks_dict[sample_example][3][1:])}\n",
    "\n",
    "edge_complement(tree_ref_edge) in walk_edges_1, tree_ref_edge in walk_edges_2"
   ],
   "metadata": {
    "collapsed": false,
    "ExecuteTime": {
     "end_time": "2025-02-19T03:39:22.274219400Z",
     "start_time": "2025-02-19T03:39:22.198883800Z"
    }
   },
   "id": "1a9c140d1cd565a2"
  },
  {
   "cell_type": "markdown",
   "source": [
    "Case 3: One walk visits the same edge two times"
   ],
   "metadata": {
    "collapsed": false
   },
   "id": "51feb73b171d737e"
  },
  {
   "cell_type": "code",
   "execution_count": 22,
   "outputs": [],
   "source": [
    "def find_repeated_edge_in_walk():\n",
    "    for sample_id, walks in sample_walks_dict.items():\n",
    "        for idx, walk in enumerate(walks):\n",
    "            cr_dict, ca_dict = genotype(G, walk, representative=False)\n",
    "            for edge in cr_dict.keys():\n",
    "                if cr_dict[edge] > 1:\n",
    "                    print(sample_id, idx, edge)\n",
    "                    return"
   ],
   "metadata": {
    "collapsed": false,
    "ExecuteTime": {
     "end_time": "2025-02-20T03:26:13.027841100Z",
     "start_time": "2025-02-20T03:26:13.004661500Z"
    }
   },
   "id": "3ef17168797bcf86"
  },
  {
   "cell_type": "code",
   "execution_count": 23,
   "outputs": [
    {
     "name": "stdout",
     "output_type": "stream",
     "text": [
      "HG00741_1 0 ('44514220_-', '44514219_-')\n"
     ]
    }
   ],
   "source": [
    "find_repeated_edge_in_walk()"
   ],
   "metadata": {
    "collapsed": false,
    "ExecuteTime": {
     "end_time": "2025-02-20T03:26:23.342431500Z",
     "start_time": "2025-02-20T03:26:13.178579400Z"
    }
   },
   "id": "a44850ca128cc3e1"
  },
  {
   "cell_type": "code",
   "execution_count": 33,
   "outputs": [],
   "source": [
    "def find_repeated_edge_in_walk():\n",
    "    for sample_id, walks in sample_walks_dict.items():\n",
    "        for idx, walk in enumerate(walks):\n",
    "            cr_dict, ca_dict = genotype(G, walk, representative=False)\n",
    "            for edge in ca_dict.keys():\n",
    "                if ca_dict[edge] > 1:\n",
    "                    print(sample_id, idx, edge)\n",
    "                    return"
   ],
   "metadata": {
    "collapsed": false,
    "ExecuteTime": {
     "end_time": "2025-02-20T03:37:00.087267700Z",
     "start_time": "2025-02-20T03:37:00.071564300Z"
    }
   },
   "id": "a4deedc6af4e0126"
  },
  {
   "cell_type": "code",
   "execution_count": 34,
   "outputs": [
    {
     "name": "stdout",
     "output_type": "stream",
     "text": [
      "HG00741_1 0 ('44514190_-', '44514189_+')\n"
     ]
    }
   ],
   "source": [
    "find_repeated_edge_in_walk()"
   ],
   "metadata": {
    "collapsed": false,
    "ExecuteTime": {
     "end_time": "2025-02-20T03:37:15.251211300Z",
     "start_time": "2025-02-20T03:37:05.565296500Z"
    }
   },
   "id": "332e5407a2fcda74"
  },
  {
   "cell_type": "code",
   "execution_count": 26,
   "outputs": [
    {
     "name": "stdout",
     "output_type": "stream",
     "text": [
      "[2, 0, 0]\n"
     ]
    }
   ],
   "source": [
    "sample_example = 'HG00741_1'\n",
    "edge_example = ('44514220_-', '44514219_-')\n",
    "sample_genotypes = [genotype(G, walk, representative=False) for walk in sample_walks_dict[sample_example]]\n",
    "\n",
    "print([sample_genotypes[i][0].get(edge_example, 0) for i in range(len(sample_genotypes))])"
   ],
   "metadata": {
    "collapsed": false,
    "ExecuteTime": {
     "end_time": "2025-02-20T03:28:51.910449400Z",
     "start_time": "2025-02-20T03:28:51.082446300Z"
    }
   },
   "id": "b48127a1c67dc46b"
  },
  {
   "cell_type": "code",
   "execution_count": 36,
   "outputs": [
    {
     "name": "stdout",
     "output_type": "stream",
     "text": [
      "[2, 0, 0]\n"
     ]
    }
   ],
   "source": [
    "sample_example = 'HG00741_1'\n",
    "edge_example = ('44514190_-', '44514189_+')\n",
    "sample_genotypes = [genotype(G, walk, representative=False) for walk in sample_walks_dict[sample_example]]\n",
    "\n",
    "print([sample_genotypes[i][1].get(edge_example, 0) for i in range(len(sample_genotypes))])"
   ],
   "metadata": {
    "collapsed": false,
    "ExecuteTime": {
     "end_time": "2025-02-20T03:37:52.229497Z",
     "start_time": "2025-02-20T03:37:51.383569400Z"
    }
   },
   "id": "4e1ac23b99311af5"
  },
  {
   "cell_type": "markdown",
   "source": [
    "Case 4: one walk visits the edge one time and the complement of the edge one time"
   ],
   "metadata": {
    "collapsed": false
   },
   "id": "42da9d92d87055c"
  },
  {
   "cell_type": "code",
   "execution_count": 29,
   "outputs": [],
   "source": [
    "def find_repeated_edge_in_walk():\n",
    "    for sample_id, walks in sample_walks_dict.items():\n",
    "        for idx, walk in enumerate(walks):\n",
    "            cr_dict, ca_dict = genotype(G, walk, representative=False)\n",
    "            for edge in cr_dict.keys():\n",
    "                if cr_dict[edge] > 1 and cr_dict.get(edge_complement(edge), 0) > 1:\n",
    "                    print(sample_id, idx, edge)\n",
    "                    return"
   ],
   "metadata": {
    "collapsed": false,
    "ExecuteTime": {
     "end_time": "2025-02-20T03:32:54.956460900Z",
     "start_time": "2025-02-20T03:32:54.934934600Z"
    }
   },
   "id": "e0f7f03047534954"
  },
  {
   "cell_type": "code",
   "execution_count": 30,
   "outputs": [],
   "source": [
    "find_repeated_edge_in_walk()"
   ],
   "metadata": {
    "collapsed": false,
    "ExecuteTime": {
     "end_time": "2025-02-20T03:34:11.917088900Z",
     "start_time": "2025-02-20T03:33:00.370285500Z"
    }
   },
   "id": "d99040e7bae380fc"
  },
  {
   "cell_type": "code",
   "execution_count": 31,
   "outputs": [],
   "source": [
    "def find_repeated_edge_in_walk():\n",
    "    for sample_id, walks in sample_walks_dict.items():\n",
    "        for idx, walk in enumerate(walks):\n",
    "            cr_dict, ca_dict = genotype(G, walk, representative=False)\n",
    "            for edge in ca_dict.keys():\n",
    "                if ca_dict[edge] > 1 and ca_dict.get(edge_complement(edge), 0) > 1:\n",
    "                    print(sample_id, idx, edge)\n",
    "                    return"
   ],
   "metadata": {
    "collapsed": false,
    "ExecuteTime": {
     "end_time": "2025-02-20T03:35:14.044432200Z",
     "start_time": "2025-02-20T03:35:14.020043400Z"
    }
   },
   "id": "9397952c1178f7c5"
  },
  {
   "cell_type": "code",
   "execution_count": 32,
   "outputs": [],
   "source": [
    "find_repeated_edge_in_walk()"
   ],
   "metadata": {
    "collapsed": false,
    "ExecuteTime": {
     "end_time": "2025-02-20T03:36:25.513841Z",
     "start_time": "2025-02-20T03:35:19.443736600Z"
    }
   },
   "id": "5848bb98aaa6158"
  },
  {
   "cell_type": "code",
   "execution_count": null,
   "outputs": [],
   "source": [],
   "metadata": {
    "collapsed": false
   },
   "id": "29666ed55697818b"
  }
 ],
 "metadata": {
  "kernelspec": {
   "display_name": "Python 3",
   "language": "python",
   "name": "python3"
  },
  "language_info": {
   "codemirror_mode": {
    "name": "ipython",
    "version": 2
   },
   "file_extension": ".py",
   "mimetype": "text/x-python",
   "name": "python",
   "nbconvert_exporter": "python",
   "pygments_lexer": "ipython2",
   "version": "2.7.6"
  }
 },
 "nbformat": 4,
 "nbformat_minor": 5
}
