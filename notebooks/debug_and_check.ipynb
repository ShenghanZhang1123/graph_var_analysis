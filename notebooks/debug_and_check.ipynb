{
 "cells": [
  {
   "cell_type": "code",
   "execution_count": null,
   "id": "initial_id",
   "metadata": {
    "collapsed": true
   },
   "outputs": [],
   "source": [
    "from graph_var.utils import *\n",
    "from graph_var.graph import PangenomeGraph\n",
    "from graph_var.evaluating_functions import *\n",
    "import pandas as pd"
   ]
  },
  {
   "cell_type": "code",
   "execution_count": null,
   "outputs": [],
   "source": [
    "graph_obj_dir = './Graph_objs'\n",
    "raw_vcf_dir = './VCFs_chr'\n",
    "sub_vcf_dir = './VCFs_subset'\n",
    "graph_vcf_dir = './VCFs_update'\n",
    "stats_dir = './Stats_update'\n",
    "ac_dir = './Bubble_result_update'\n",
    "tree_dir = './Tree'\n",
    "region_dir = './Region_files'\n",
    "bubble_summary_dir = './Bubble_summary'\n",
    "bubble_result_dir = './Bubble_result_update'"
   ],
   "metadata": {
    "collapsed": false
   },
   "id": "55d61fb8b90335f"
  },
  {
   "cell_type": "code",
   "execution_count": null,
   "outputs": [],
   "source": [
    "def summarise_walk(G, walk):\n",
    "    edge_dict = {}\n",
    "    for edge in zip(walk[:-1], walk[1:]):\n",
    "        if G.edges[edge]['is_in_tree']:\n",
    "            edge_dict['in_tree'] = edge_dict.get('in_tree', 0) + 1\n",
    "        else:\n",
    "            if not G.edges[edge]['is_representative']:\n",
    "                edge = edge_complement(edge)\n",
    "            var_type = G.identify_variant_type(edge)\n",
    "            edge_dict[var_type] = edge_dict.get(var_type, 0) + 1\n",
    "    return {k: edge_dict[k] for k in sorted(edge_dict.keys())}"
   ],
   "metadata": {
    "collapsed": false
   },
   "id": "cf88350b1f8828c4"
  },
  {
   "cell_type": "markdown",
   "source": [
    "Check if inversion or repeat exist near CYP2D6 gene"
   ],
   "metadata": {
    "collapsed": false
   },
   "id": "e99b02ff59df143b"
  },
  {
   "cell_type": "code",
   "execution_count": null,
   "outputs": [],
   "source": [
    "graph_path = f\"{graph_obj_dir}/chr22.pkl\"\n",
    "G, walks, sample_names = load_graph_from_pkl(graph_path)\n",
    "sample_walks_dict = group_walks_by_name(walks, sample_names)\n",
    "HG01071_genotypes = [G.genotype(walk) for walk in sample_walks_dict['HG01071_2']]"
   ],
   "metadata": {
    "collapsed": false
   },
   "id": "f4732bc81240cfc0"
  },
  {
   "cell_type": "code",
   "execution_count": null,
   "outputs": [],
   "source": [
    "len(HG01071_genotypes), len(sample_walks_dict['HG01071_2'])"
   ],
   "metadata": {
    "collapsed": false
   },
   "id": "9c53928b66ce73db"
  },
  {
   "cell_type": "code",
   "execution_count": null,
   "outputs": [],
   "source": [
    "tree_ref_edge = G.reference_tree_edge(('44987811_-', '44987812_+'))\n",
    "tree_ref_edge"
   ],
   "metadata": {
    "collapsed": false
   },
   "id": "1adb114c02ce801a"
  },
  {
   "cell_type": "code",
   "execution_count": null,
   "outputs": [],
   "source": [
    "[HG01071_genotypes[i][0].get(tree_ref_edge, 0) for i in range(len(HG01071_genotypes))]"
   ],
   "metadata": {
    "collapsed": false
   },
   "id": "a4bd5e9173026ba6"
  },
  {
   "cell_type": "code",
   "execution_count": null,
   "outputs": [],
   "source": [
    "[(idx+1, summarise_walk(G, walk)) for idx, walk in enumerate(sample_walks_dict['HG01071_2'])]"
   ],
   "metadata": {
    "collapsed": false
   },
   "id": "ec72a92c349d8b88"
  }
 ],
 "metadata": {
  "kernelspec": {
   "display_name": "Python 3",
   "language": "python",
   "name": "python3"
  },
  "language_info": {
   "codemirror_mode": {
    "name": "ipython",
    "version": 2
   },
   "file_extension": ".py",
   "mimetype": "text/x-python",
   "name": "python",
   "nbconvert_exporter": "python",
   "pygments_lexer": "ipython2",
   "version": "2.7.6"
  }
 },
 "nbformat": 4,
 "nbformat_minor": 5
}
